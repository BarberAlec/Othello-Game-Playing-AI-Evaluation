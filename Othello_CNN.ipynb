{
 "cells": [
  {
   "cell_type": "markdown",
   "metadata": {},
   "source": [
    "# Othello Move Predictor"
   ]
  },
  {
   "cell_type": "code",
   "execution_count": 3,
   "metadata": {},
   "outputs": [],
   "source": [
    "%reload_ext autoreload\n",
    "%autoreload 2\n",
    "%matplotlib inline\n",
    "\n",
    "import os\n",
    "import sys\n",
    "import random\n",
    "import fastai\n",
    "import numpy as np\n",
    "from progress.bar import IncrementalBar\n",
    "from pathlib import Path\n",
    "from fastai.vision import *\n",
    "from fastai.callbacks.hooks import *\n",
    "from fastai.utils.mem import *\n",
    "from fastai.callbacks.mem import PeakMemMetric\n",
    "from Othello_CNN import OthelloCNN\n",
    "from torchsummary import summary"
   ]
  },
  {
   "cell_type": "markdown",
   "metadata": {},
   "source": [
    "## Convert NumPy matrices to PNG"
   ]
  },
  {
   "cell_type": "code",
   "execution_count": 43,
   "metadata": {},
   "outputs": [],
   "source": [
    "data_path = Path( '/users/ugrad/pretoriw/Documents/5th_Year/AI/numpy_boards_moves' )\n",
    "data_save_path = Path( '/users/ugrad/pretoriw/Documents/5th_Year/AI/png_boards_moves_3_chan' )\n",
    "fnames = os.listdir('/users/ugrad/pretoriw/Documents/5th_Year/AI/numpy_boards_moves')\n",
    "empty_mat = np.zeros( (8,8) )\n",
    "\n",
    "bar = IncrementalBar('Processing', max = len(fnames))\n",
    "for name in fnames:\n",
    "    mat_2 = np.load( data_path / name)\n",
    "    mat_3 = np.dstack((mat_2, empty_mat))\n",
    "    mat_png = PIL.Image.fromarray( (mat_3 * 255).astype(np.uint8))\n",
    "    \n",
    "    save_path = data_save_path / (name[:-3] + 'png')\n",
    "    mat_png.save(save_path)\n",
    "    bar.next()\n",
    "    \n",
    "bar.finish()"
   ]
  },
  {
   "cell_type": "code",
   "execution_count": 44,
   "metadata": {},
   "outputs": [],
   "source": [
    "# Redefine open_image\n",
    "def open_image(fn:PathOrStr, div:bool=True, convert_mode:str='RGB', cls:type=Image,\n",
    "        after_open:Callable=None)->Image:\n",
    "    with warnings.catch_warnings():\n",
    "        warnings.simplefilter(\"ignore\", UserWarning) # EXIF warning from TiffPlugin\n",
    "        x = PIL.Image.open(fn).convert(convert_mode)\n",
    "    if after_open: x = after_open(x)\n",
    "    x = pil2tensor(x,np.float32)\n",
    "    if div: x.div_(255)\n",
    "    return cls(x)\n",
    "\n",
    "fastai.vision.Image.open_image = open_image"
   ]
  },
  {
   "cell_type": "code",
   "execution_count": 12,
   "metadata": {},
   "outputs": [
    {
     "data": {
      "text/plain": [
       "<function __main__.open_image(fn: Union[pathlib.Path, str], div: bool = True, convert_mode: str = 'LA', cls: type = <class 'fastai.vision.image.Image'>, after_open: Callable = None) -> fastai.vision.image.Image>"
      ]
     },
     "execution_count": 12,
     "metadata": {},
     "output_type": "execute_result"
    }
   ],
   "source": [
    "fastai.vision.Image.open_image"
   ]
  },
  {
   "cell_type": "code",
   "execution_count": null,
   "metadata": {},
   "outputs": [],
   "source": [
    "# Batch size\n",
    "bs = 256\n",
    "\n",
    "# Define path to images\n",
    "data_path = Path( '/users/ugrad/pretoriw/Documents/5th_Year/AI/numpy_boards_moves' )\n",
    "\n",
    "# Get a list of names of all images in folder\n",
    "# fnames = get_image_files( data_path )\n",
    "fnames = os.listdir('/users/ugrad/pretoriw/Documents/5th_Year/AI/numpy_boards_moves')\n",
    "split_idx = int(0.15 * len(fnames))\n",
    "\n",
    "random.shuffle(fnames)\n",
    "fnames_train = fnames[:split_idx]\n",
    "fnames_val = fnames[split_idx:]\n",
    "\n",
    "# Define function to retrieve label from filename\n",
    "def get_label(file_path):\n",
    "    file_name = file_path.name   # Get the file name (not path)\n",
    "    label = file_name[:2]        # Get the first two chars of name\n",
    "\n",
    "class NumpyDataset(Dataset):\n",
    "    def __init__(self, data_path, fnames ):\n",
    "        self.path = data_path\n",
    "        self.names = fnames\n",
    "        \n",
    "    def __len__(self):\n",
    "        return len(self.names)\n",
    "    \n",
    "    def __getitem__(self, idx):\n",
    "        file_path = self.path/self.names[idx]\n",
    "        \n",
    "        img = np.load( file_path )\n",
    "        img = np.float32(img)\n",
    "        img = Image(img)\n",
    "#         img = torch.Tensor( img )\n",
    "        \n",
    "        label = get_label( file_path )\n",
    "        \n",
    "        return img, label\n",
    "    \n",
    "train_dataset = NumpyDataset( data_path, fnames_train )\n",
    "val_dataset = NumpyDataset(data_path, fnames_val)\n",
    "\n",
    "train_dataloader = DataLoader( train_dataset, batch_size = bs)\n",
    "val_dataloader = DataLoader( val_dataset, batch_size = bs)\n",
    "\n",
    "data = ImageDataBunch(train_dataloader, val_dataloader)\n",
    "data.c = 60"
   ]
  },
  {
   "cell_type": "code",
   "execution_count": 50,
   "metadata": {},
   "outputs": [
    {
     "data": {
      "text/plain": [
       "(60, None)"
      ]
     },
     "execution_count": 50,
     "metadata": {},
     "output_type": "execute_result"
    },
    {
     "data": {
      "image/png": "[encoded data removed]",
      "text/plain": [
       "<Figure size 864x864 with 9 Axes>"
      ]
     },
     "metadata": {
      "needs_background": "light"
     },
     "output_type": "display_data"
    }
   ],
   "source": [
    "# Batch size\n",
    "bs = 256\n",
    "\n",
    "# Define path to images\n",
    "data_path = Path( '/users/ugrad/pretoriw/Documents/5th_Year/AI/png_boards_moves_3_chan' )\n",
    "\n",
    "# Get a list of names of all images in folder\n",
    "fnames = get_image_files( data_path )\n",
    "\n",
    "# Define function to retrieve label from filename\n",
    "def get_labels(file_path):\n",
    "    file_name = file_path.name   # Get the file name (not path)\n",
    "    label = file_name[:2]        # Get the first two chars of name\n",
    "    return label\n",
    "\n",
    "# Load data into Databunch\n",
    "data = ImageDataBunch.from_name_func( data_path, fnames, label_func=get_labels, bs=bs)\n",
    "\n",
    "data.c, data.show_batch( rows = 3 )"
   ]
  },
  {
   "cell_type": "code",
   "execution_count": 51,
   "metadata": {},
   "outputs": [
    {
     "data": {
      "text/plain": [
       "(Image (3, 8, 8), Category 17)"
      ]
     },
     "execution_count": 51,
     "metadata": {},
     "output_type": "execute_result"
    }
   ],
   "source": [
    "data.train_ds[0]"
   ]
  },
  {
   "cell_type": "code",
   "execution_count": 57,
   "metadata": {},
   "outputs": [
    {
     "data": {
      "image/png": "[encoded data removed]",
      "text/plain": [
       "<Figure size 360x360 with 1 Axes>"
      ]
     },
     "metadata": {
      "needs_background": "light"
     },
     "output_type": "display_data"
    }
   ],
   "source": [
    "data.train_ds[0][0].show( figsize=(5,5))"
   ]
  },
  {
   "cell_type": "code",
   "execution_count": 52,
   "metadata": {},
   "outputs": [
    {
     "data": {
      "text/plain": [
       "(8, 8, 3)"
      ]
     },
     "execution_count": 52,
     "metadata": {},
     "output_type": "execute_result"
    }
   ],
   "source": [
    "img = image2np(data.train_ds[0][0]._px)\n",
    "img.shape"
   ]
  },
  {
   "cell_type": "code",
   "execution_count": 53,
   "metadata": {},
   "outputs": [
    {
     "data": {
      "text/plain": [
       "array([[0., 0., 0., 1., 1., 1., 0., 0.],\n",
       "       [0., 0., 0., 0., 1., 1., 0., 0.],\n",
       "       [0., 0., 1., 0., 0., 1., 0., 0.],\n",
       "       [1., 1., 1., 0., 1., 0., 0., 0.],\n",
       "       [0., 1., 1., 1., 0., 1., 0., 1.],\n",
       "       [0., 0., 1., 1., 1., 1., 1., 1.],\n",
       "       [0., 0., 0., 0., 0., 1., 0., 1.],\n",
       "       [0., 0., 0., 0., 0., 0., 0., 0.]], dtype=float32)"
      ]
     },
     "execution_count": 53,
     "metadata": {},
     "output_type": "execute_result"
    }
   ],
   "source": [
    "img[:,:,0]"
   ]
  },
  {
   "cell_type": "code",
   "execution_count": 54,
   "metadata": {},
   "outputs": [
    {
     "data": {
      "text/plain": [
       "array([[0., 0., 0., 0., 0., 0., 0., 0.],\n",
       "       [0., 0., 1., 1., 0., 0., 0., 0.],\n",
       "       [1., 1., 0., 1., 1., 0., 0., 1.],\n",
       "       [0., 0., 0., 1., 0., 1., 1., 1.],\n",
       "       [0., 0., 0., 0., 1., 0., 1., 0.],\n",
       "       [0., 0., 0., 0., 0., 0., 0., 0.],\n",
       "       [0., 0., 0., 1., 1., 0., 0., 0.],\n",
       "       [0., 0., 0., 0., 0., 0., 0., 0.]], dtype=float32)"
      ]
     },
     "execution_count": 54,
     "metadata": {},
     "output_type": "execute_result"
    }
   ],
   "source": [
    "img[:,:,1]"
   ]
  },
  {
   "cell_type": "code",
   "execution_count": 55,
   "metadata": {},
   "outputs": [
    {
     "data": {
      "text/plain": [
       "array([[0., 0., 0., 0., 0., 0., 0., 0.],\n",
       "       [0., 0., 0., 0., 0., 0., 0., 0.],\n",
       "       [0., 0., 0., 0., 0., 0., 0., 0.],\n",
       "       [0., 0., 0., 0., 0., 0., 0., 0.],\n",
       "       [0., 0., 0., 0., 0., 0., 0., 0.],\n",
       "       [0., 0., 0., 0., 0., 0., 0., 0.],\n",
       "       [0., 0., 0., 0., 0., 0., 0., 0.],\n",
       "       [0., 0., 0., 0., 0., 0., 0., 0.]], dtype=float32)"
      ]
     },
     "execution_count": 55,
     "metadata": {},
     "output_type": "execute_result"
    }
   ],
   "source": [
    "img[:, :,2]"
   ]
  },
  {
   "cell_type": "code",
   "execution_count": null,
   "metadata": {},
   "outputs": [],
   "source": [
    "# Load model onto GPU..?\n",
    "device = torch.device('cuda')\n",
    "model = OthelloCNN().to(device)\n",
    "\n",
    "# Create a learner\n",
    "learn = cnn_learner( data, model, metrics = error_rate )\n",
    "\n",
    "# Find the optimal learning rate\n",
    "lr_find( learn )\n",
    "learn.recorder.plot()"
   ]
  },
  {
   "cell_type": "code",
   "execution_count": null,
   "metadata": {},
   "outputs": [],
   "source": [
    "lr = 1e-3\n",
    "\n",
    "learn.fit_one_cycle( 4, lr )\n",
    "\n",
    "learn.save( 'stage1' )\n",
    "learn.load( 'stage1' )"
   ]
  }
 ],
 "metadata": {
  "kernelspec": {
   "display_name": "Python 3",
   "language": "python",
   "name": "python3"
  },
  "language_info": {
   "codemirror_mode": {
    "name": "ipython",
    "version": 3
   },
   "file_extension": ".py",
   "mimetype": "text/x-python",
   "name": "python",
   "nbconvert_exporter": "python",
   "pygments_lexer": "ipython3",
   "version": "3.7.3"
  }
 },
 "nbformat": 4,
 "nbformat_minor": 2
}
