{
 "cells": [
  {
   "cell_type": "markdown",
   "metadata": {},
   "source": [
    "# Othello Move Predictor"
   ]
  },
  {
   "cell_type": "code",
   "execution_count": 2,
   "metadata": {},
   "outputs": [],
   "source": [
    "%reload_ext autoreload\n",
    "%autoreload 2\n",
    "%matplotlib inline\n",
    "\n",
    "import os\n",
    "import sys\n",
    "import numpy as np\n",
    "from pathlib import Path\n",
    "from fastai.vision import *\n",
    "from fastai.callbacks.hooks import *\n",
    "from fastai.utils.mem import *\n",
    "from fastai.callbacks.mem import PeakMemMetric\n",
    "from Othello_CNN import OthelloCNN\n",
    "from torchsummary import summary"
   ]
  },
  {
   "cell_type": "markdown",
   "metadata": {},
   "source": [
    "## Testing numpy i/o"
   ]
  },
  {
   "cell_type": "code",
   "execution_count": 6,
   "metadata": {},
   "outputs": [],
   "source": [
    "# Create matrices to concatenate\n",
    "matrix_1 = np.zeros( shape=(8,8) )\n",
    "matrix_2 = np.ones( shape=(8,8) )\n",
    "\n",
    "# Stack depth-wise\n",
    "matrix_3d = np.dstack( (matrix_1, matrix_2) )\n",
    "matrix_3d.shape\n",
    "\n",
    "# Save the numpy matrix\n",
    "path = Path('/home/warren/Documents/5th_Year/AI')\n",
    "name = path / 'test.npy'\n",
    "np.save(name,matrix_3d)"
   ]
  },
  {
   "cell_type": "code",
   "execution_count": 8,
   "metadata": {},
   "outputs": [
    {
     "data": {
      "text/plain": [
       "(8, 8, 2)"
      ]
     },
     "execution_count": 8,
     "metadata": {},
     "output_type": "execute_result"
    }
   ],
   "source": [
    "# Load numpy file and examine shape\n",
    "mat = np.load(name)\n",
    "mat.shape"
   ]
  },
  {
   "cell_type": "code",
   "execution_count": null,
   "metadata": {},
   "outputs": [],
   "source": [
    "# Redefine open_image\n",
    "def open_image(fn:PathOrStr, div:bool=True, convert_mode:str='RGB', cls:type=Image,\n",
    "        after_open:Callable=None)->Image:\n",
    "    with warnings.catch_warnings():\n",
    "        warnings.simplefilter(\"ignore\", UserWarning) # EXIF warning from TiffPlugin\n",
    "        x = PIL.Image.open(fn).convert(convert_mode)\n",
    "    if after_open: x = after_open(x)\n",
    "    x = pil2tensor(x,np.float32)\n",
    "#     if div: x.div_(255)\n",
    "    return cls(x)\n",
    "\n",
    "fastai.vision.Image.open_image = open_image"
   ]
  },
  {
   "cell_type": "code",
   "execution_count": null,
   "metadata": {},
   "outputs": [],
   "source": [
    "class NumpyDataset(Dataset):\n",
    "    def __init__(self, data_path, fnames ):\n",
    "        self.path = data_path\n",
    "        self.names = fnames\n",
    "        \n",
    "    def __len__(self):\n",
    "        return len(self.names)\n",
    "    \n",
    "    def __getitem__(self, idx):\n",
    "        file_path = self.path/self.names[idx]\n",
    "        \n",
    "        img = np.load( file_path )\n",
    "        img = torch.Tensor( img )\n",
    "        \n",
    "        label = get_label( file_path )\n",
    "        \n",
    "        return img, label\n",
    "    \n",
    "dataset = NumpyDataset( data_path, fnames )\n",
    "\n",
    "dataloader = DataLoader( dataset, batch_size = bs, shuffle=True)\n",
    "\n",
    "data = ImageDataBunch().split_by_rand_pct()"
   ]
  },
  {
   "cell_type": "code",
   "execution_count": null,
   "metadata": {},
   "outputs": [],
   "source": [
    "# Batch size\n",
    "bs = 256\n",
    "\n",
    "# Define path to images\n",
    "data_path = Path( '' )\n",
    "\n",
    "# Get a list of names of all images in folder\n",
    "fnames = get_image_files( data_path )\n",
    "\n",
    "# Define function to retrieve label from filename\n",
    "def get_labels(file_path):\n",
    "    file_name = file_path.name   # Get the file name (not path)\n",
    "    label = file_name[:2]        # Get the first two chars of name\n",
    "\n",
    "# Load data into Databunch\n",
    "data = ImageDataBunch.from_name_func( data_path, fnames, label_func=get_labels, bs=bs)\n",
    "\n",
    "print(data.classes), data.c, data.show_batch( rows = 3 )"
   ]
  },
  {
   "cell_type": "code",
   "execution_count": null,
   "metadata": {},
   "outputs": [],
   "source": [
    "# Load model onto GPU..?\n",
    "device = torch.device('cude')\n",
    "model = OthelloCNN().to(device)\n",
    "\n",
    "# Create a learner\n",
    "learn = cnn_learner( data, model, metrics = error_rate )\n",
    "\n",
    "# Find the optimal learning rate\n",
    "lr_find( learn )\n",
    "learn.recorder.plot()"
   ]
  },
  {
   "cell_type": "code",
   "execution_count": null,
   "metadata": {},
   "outputs": [],
   "source": [
    "lr = 1e-3\n",
    "\n",
    "learn.fit_one_cycle( 4, lr )\n",
    "\n",
    "learn.save( 'stage1' )\n",
    "learn.load( 'stage1' )"
   ]
  }
 ],
 "metadata": {
  "kernelspec": {
   "display_name": "Python 2",
   "language": "python",
   "name": "python2"
  },
  "language_info": {
   "codemirror_mode": {
    "name": "ipython",
    "version": 3
   },
   "file_extension": ".py",
   "mimetype": "text/x-python",
   "name": "python",
   "nbconvert_exporter": "python",
   "pygments_lexer": "ipython3",
   "version": "3.7.6"
  }
 },
 "nbformat": 4,
 "nbformat_minor": 2
}
